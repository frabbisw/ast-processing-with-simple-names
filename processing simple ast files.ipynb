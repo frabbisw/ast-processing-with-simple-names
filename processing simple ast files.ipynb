{
 "cells": [
  {
   "cell_type": "code",
   "execution_count": 35,
   "metadata": {},
   "outputs": [],
   "source": [
    "%matplotlib inline\n",
    "import matplotlib.pyplot as plt\n",
    "\n",
    "from __future__ import unicode_literals, print_function, division\n",
    "from io import open\n",
    "import unicodedata\n",
    "import string\n",
    "import re\n",
    "import random\n",
    "import json\n",
    "from tqdm import tqdm as tq\n",
    "import pickle"
   ]
  },
  {
   "cell_type": "code",
   "execution_count": 36,
   "metadata": {},
   "outputs": [
    {
     "name": "stderr",
     "output_type": "stream",
     "text": [
      "[nltk_data] Downloading package wordnet to\n",
      "[nltk_data]     C:\\Users\\User\\AppData\\Roaming\\nltk_data...\n",
      "[nltk_data]   Package wordnet is already up-to-date!\n"
     ]
    },
    {
     "data": {
      "text/plain": [
       "True"
      ]
     },
     "execution_count": 36,
     "metadata": {},
     "output_type": "execute_result"
    }
   ],
   "source": [
    "import gensim\n",
    "from gensim.utils import simple_preprocess\n",
    "from gensim.parsing.preprocessing import STOPWORDS\n",
    "from nltk.stem import WordNetLemmatizer, SnowballStemmer\n",
    "from nltk.stem.porter import *\n",
    "from gensim import models\n",
    "\n",
    "import nltk\n",
    "nltk.download('wordnet')"
   ]
  },
  {
   "cell_type": "code",
   "execution_count": 37,
   "metadata": {},
   "outputs": [],
   "source": [
    "stemmer = PorterStemmer()\n",
    "def lemmatize_stemming(text):\n",
    "    return stemmer.stem(WordNetLemmatizer().lemmatize(text, pos='v'))\n",
    "def preprocess(text):\n",
    "    result = []\n",
    "    for token in gensim.utils.simple_preprocess(text):\n",
    "        if token not in gensim.parsing.preprocessing.STOPWORDS and len(token) > 3:\n",
    "            result.append(lemmatize_stemming(token))\n",
    "    return result"
   ]
  },
  {
   "cell_type": "code",
   "execution_count": 38,
   "metadata": {},
   "outputs": [],
   "source": [
    "def camel_case_split(identifier):\n",
    "    matches = re.finditer('.+?(?:(?<=[a-z])(?=[A-Z])|(?<=[A-Z])(?=[A-Z][a-z])|$)', identifier)\n",
    "    return [m.group(0) for m in matches]\n",
    "def unicodeToAscii(s):\n",
    "    return ''.join(\n",
    "        c for c in unicodedata.normalize('NFD', s)\n",
    "        if unicodedata.category(c) != 'Mn'\n",
    "    )\n",
    "def normalizeString(s):\n",
    "    # s = unicodeToAscii(s.lower().strip())\n",
    "    s = unicodeToAscii(s.strip())\n",
    "    s = re.sub(r\"([.!?])\", r\" \\1\", s)\n",
    "    s = re.sub(r\"[^a-zA-Z!?]+\", r\" \", s)\n",
    "    return s"
   ]
  },
  {
   "cell_type": "code",
   "execution_count": 39,
   "metadata": {},
   "outputs": [],
   "source": [
    "def parse_header(header):\n",
    "    header = normalizeString(header)\n",
    "    token_list = []\n",
    "    for token in header.split(' '):\n",
    "        token_list += camel_case_split(token)\n",
    "    # token_list = set(token_list)\n",
    "    norm_list = []\n",
    "    for token in token_list:\n",
    "        norm_list.append(lemmatize_stemming(token))\n",
    "    header = ' '.join(norm_list).lower()\n",
    "    return header"
   ]
  },
  {
   "cell_type": "code",
   "execution_count": 40,
   "metadata": {},
   "outputs": [],
   "source": [
    "with open(\"train.json\",\"r\") as f:\n",
    "    train_pairs = f.read()\n",
    "with open(\"test.json\",\"r\") as f:\n",
    "    test_pairs = f.read()"
   ]
  },
  {
   "cell_type": "code",
   "execution_count": 41,
   "metadata": {},
   "outputs": [
    {
     "name": "stderr",
     "output_type": "stream",
     "text": [
      "  2%|█▍                                                                           | 103/5472 [00:00<00:05, 1002.97it/s]"
     ]
    },
    {
     "name": "stdout",
     "output_type": "stream",
     "text": [
      "reading ... \n"
     ]
    },
    {
     "name": "stderr",
     "output_type": "stream",
     "text": [
      "100%|█████████████████████████████████████████████████████████████████████████████| 5472/5472 [00:06<00:00, 888.38it/s]\n",
      " 14%|███████████▏                                                                    | 85/609 [00:00<00:00, 843.83it/s]"
     ]
    },
    {
     "name": "stdout",
     "output_type": "stream",
     "text": [
      "reading ... \n"
     ]
    },
    {
     "name": "stderr",
     "output_type": "stream",
     "text": [
      "100%|███████████████████████████████████████████████████████████████████████████████| 609/609 [00:00<00:00, 897.69it/s]\n"
     ]
    }
   ],
   "source": [
    "def get_pairs(filename):\n",
    "    lines = open(filename, encoding='utf-8').read().strip().split('\\n')\n",
    "    print(\"reading ... \")\n",
    "    pairs=[]\n",
    "    index = 1\n",
    "    for i in tq(range(len(lines))):\n",
    "        l=lines[i]\n",
    "        tmp1=parse_header(json.loads(l)[\"simple\"])\n",
    "        tmp2=parse_header(json.loads(l)[\"comment\"])\n",
    "#         tmp2=json.loads(l)[\"nl\"]\n",
    "        tmp3=float(json.loads(l)[\"coherence\"])\n",
    "        tmp5=json.loads(l)[\"code\"]\n",
    "        \n",
    "        if len(tmp1.split()) < 351 and len(tmp2.split()) < 351 and len(tmp1.split()) > 2 and len(tmp2.split()) > 2:\n",
    "            pairs.append([tmp1,tmp2,tmp3,index,tmp5])\n",
    "        else:\n",
    "            continue\n",
    "        index += 1\n",
    "    return pairs\n",
    "\n",
    "train_pairs = get_pairs(\"simple_train.json\")\n",
    "test_pairs = get_pairs(\"simple_test.json\")"
   ]
  },
  {
   "cell_type": "code",
   "execution_count": 42,
   "metadata": {},
   "outputs": [],
   "source": [
    "with open(\"train_pairs.pkl\", \"wb\") as f:\n",
    "    pickle.dump(train_pairs, f)\n",
    "with open(\"test_pairs.pkl\", \"wb\") as f:\n",
    "    pickle.dump(test_pairs, f)"
   ]
  },
  {
   "cell_type": "code",
   "execution_count": 45,
   "metadata": {},
   "outputs": [],
   "source": []
  },
  {
   "cell_type": "code",
   "execution_count": null,
   "metadata": {},
   "outputs": [],
   "source": []
  }
 ],
 "metadata": {
  "kernelspec": {
   "display_name": "Python 3",
   "language": "python",
   "name": "python3"
  },
  "language_info": {
   "codemirror_mode": {
    "name": "ipython",
    "version": 3
   },
   "file_extension": ".py",
   "mimetype": "text/x-python",
   "name": "python",
   "nbconvert_exporter": "python",
   "pygments_lexer": "ipython3",
   "version": "3.8.5"
  }
 },
 "nbformat": 4,
 "nbformat_minor": 4
}
