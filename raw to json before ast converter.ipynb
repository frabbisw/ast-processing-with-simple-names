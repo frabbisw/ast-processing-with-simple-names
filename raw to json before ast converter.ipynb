{
 "cells": [
  {
   "cell_type": "code",
   "execution_count": 14,
   "metadata": {},
   "outputs": [],
   "source": [
    "import pickle\n",
    "import json\n",
    "import random"
   ]
  },
  {
   "cell_type": "code",
   "execution_count": 15,
   "metadata": {},
   "outputs": [],
   "source": [
    "with open (\"coherent.txt\", \"r\") as f:\n",
    "    contents = f.readlines()"
   ]
  },
  {
   "cell_type": "code",
   "execution_count": null,
   "metadata": {},
   "outputs": [],
   "source": []
  },
  {
   "cell_type": "code",
   "execution_count": 16,
   "metadata": {},
   "outputs": [],
   "source": [
    "code = \"\"\n",
    "comment = \"\"\n",
    "mood = 0\n",
    "pairs1 = []\n",
    "for line in contents:\n",
    "    if \"#No.\" in line:\n",
    "        mood = 0\n",
    "        pairs1.append({\"code\":code, \"comment\":comment, \"coherence\":1})\n",
    "        code = \"\"\n",
    "        comment = \"\"\n",
    "    if \"#Code:\" in line:\n",
    "        mood = 1\n",
    "        continue\n",
    "    elif \"#Comment:\" in line:\n",
    "        mood = 2\n",
    "        continue\n",
    "        \n",
    "    if mood == 1:\n",
    "        code += line\n",
    "    elif mood == 2:\n",
    "        comment += line\n",
    "pairs1 = pairs1[1:]"
   ]
  },
  {
   "cell_type": "code",
   "execution_count": 17,
   "metadata": {},
   "outputs": [],
   "source": [
    "with open (\"noncoherent.txt\", \"r\") as f:\n",
    "    noncontents = f.readlines()"
   ]
  },
  {
   "cell_type": "code",
   "execution_count": 18,
   "metadata": {},
   "outputs": [],
   "source": [
    "code = \"\"\n",
    "comment = \"\"\n",
    "mood = 0\n",
    "pairs0 = []\n",
    "for line in noncontents:\n",
    "    if \"#No.\" in line:\n",
    "        mood = 0\n",
    "        pairs0.append({\"code\":code, \"comment\":comment, \"coherence\":0})\n",
    "        code = \"\"\n",
    "        comment = \"\"\n",
    "    if \"#Code:\" in line:\n",
    "        mood = 1\n",
    "        continue\n",
    "    elif \"#Comment:\" in line:\n",
    "        mood = 2\n",
    "        continue\n",
    "        \n",
    "    if mood == 1:\n",
    "        code += line\n",
    "    elif mood == 2:\n",
    "        comment += line\n",
    "pairs0 = pairs0[1:]"
   ]
  },
  {
   "cell_type": "code",
   "execution_count": 21,
   "metadata": {},
   "outputs": [],
   "source": [
    "# pairs1[0]"
   ]
  },
  {
   "cell_type": "code",
   "execution_count": 22,
   "metadata": {},
   "outputs": [],
   "source": [
    "pairs = pairs0 + pairs1\n",
    "random.shuffle(pairs)\n",
    "random.shuffle(pairs)"
   ]
  },
  {
   "cell_type": "code",
   "execution_count": 23,
   "metadata": {},
   "outputs": [],
   "source": [
    "train_pairs = pairs[:int(len(pairs)*.9)]\n",
    "test_pairs = pairs[int(len(pairs)*.9):]"
   ]
  },
  {
   "cell_type": "code",
   "execution_count": 24,
   "metadata": {},
   "outputs": [],
   "source": [
    "with open(\"train.json\",\"w\") as f:\n",
    "    f.write(str(train_pairs))\n",
    "with open(\"test.json\",\"w\") as f:\n",
    "    f.write(str(test_pairs))"
   ]
  },
  {
   "cell_type": "code",
   "execution_count": null,
   "metadata": {},
   "outputs": [],
   "source": []
  }
 ],
 "metadata": {
  "kernelspec": {
   "display_name": "Python 3",
   "language": "python",
   "name": "python3"
  },
  "language_info": {
   "codemirror_mode": {
    "name": "ipython",
    "version": 3
   },
   "file_extension": ".py",
   "mimetype": "text/x-python",
   "name": "python",
   "nbconvert_exporter": "python",
   "pygments_lexer": "ipython3",
   "version": "3.8.5"
  }
 },
 "nbformat": 4,
 "nbformat_minor": 4
}
