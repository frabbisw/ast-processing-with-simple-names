{
 "cells": [
  {
   "cell_type": "code",
   "execution_count": 1,
   "metadata": {},
   "outputs": [],
   "source": [
    "import pickle"
   ]
  },
  {
   "cell_type": "code",
   "execution_count": 2,
   "metadata": {},
   "outputs": [],
   "source": [
    "with open(\"train_pairs.pkl\", \"rb\") as f:\n",
    "    train_pairs = pickle.load(f)\n",
    "with open(\"test_pairs.pkl\", \"rb\") as f:\n",
    "    test_pairs = pickle.load(f)"
   ]
  },
  {
   "cell_type": "code",
   "execution_count": 3,
   "metadata": {},
   "outputs": [],
   "source": [
    "SOS_token = 0\n",
    "EOS_token = 1\n",
    "MOS_token = 2\n",
    "\n",
    "class Lang:\n",
    "    def __init__(self, name):\n",
    "        self.name = name\n",
    "        self.word2index = {}\n",
    "        self.word2count = {}\n",
    "        self.index2word = {0: \"SOS\", 1: \"EOS\", 2: \"MOS\"}\n",
    "        self.n_words = 3  # Count SOS and EOS\n",
    "\n",
    "    def addSentence(self, sentence):\n",
    "        for word in sentence.split(' '):\n",
    "            self.addWord(word)\n",
    "\n",
    "    def addWord(self, word):\n",
    "        if word not in self.word2index:\n",
    "            self.word2index[word] = self.n_words\n",
    "            self.word2count[word] = 1\n",
    "            self.index2word[self.n_words] = word\n",
    "            self.n_words += 1\n",
    "        else:\n",
    "            self.word2count[word] += 1"
   ]
  },
  {
   "cell_type": "code",
   "execution_count": 10,
   "metadata": {},
   "outputs": [],
   "source": [
    "from tqdm import tqdm as tq\n",
    "def lang_from_pairs(pairs):\n",
    "    simple_lang = Lang(\"simple\")\n",
    "    comment_lang = Lang(\"comment\")\n",
    "    all_lang = Lang(\"all\")\n",
    "    for i in tq(range(len(pairs))):\n",
    "        pair = pairs[i]\n",
    "        simple_lang.addSentence(pair[0])\n",
    "        comment_lang.addSentence(pair[1])\n",
    "        all_lang.addSentence(pair[0])\n",
    "        all_lang.addSentence(pair[1])\n",
    "\n",
    "    return simple_lang, comment_lang, all_lang"
   ]
  },
  {
   "cell_type": "code",
   "execution_count": 15,
   "metadata": {},
   "outputs": [
    {
     "name": "stderr",
     "output_type": "stream",
     "text": [
      "100%|███████████████████████████████████████████████████████████████████████████| 5650/5650 [00:00<00:00, 28607.01it/s]\n"
     ]
    }
   ],
   "source": [
    "all_pairs = test_pairs + train_pairs\n",
    "simple_lang, comment_lang, all_lang = lang_from_pairs(all_pairs)"
   ]
  },
  {
   "cell_type": "code",
   "execution_count": 16,
   "metadata": {},
   "outputs": [
    {
     "name": "stdout",
     "output_type": "stream",
     "text": [
      "simple 3553\n",
      "comment 3807\n",
      "all 4891\n"
     ]
    }
   ],
   "source": [
    "print(simple_lang.name, simple_lang.n_words)\n",
    "print(comment_lang.name, comment_lang.n_words)\n",
    "print(all_lang.name, all_lang.n_words)"
   ]
  },
  {
   "cell_type": "code",
   "execution_count": 17,
   "metadata": {},
   "outputs": [],
   "source": [
    "with open(\"train_pairs.pkl\", \"wb\") as f:\n",
    "    pickle.dump(train_pairs, f)\n",
    "with open(\"test_pairs.pkl\", \"wb\") as f:\n",
    "    pickle.dump(test_pairs, f)\n",
    "with open(\"all_pairs.pkl\", \"wb\") as f:\n",
    "    pickle.dump(all_pairs, f)\n",
    "    \n",
    "with open(\"simple_lang.pkl\", \"wb\") as f:\n",
    "    pickle.dump(simple_lang, f)\n",
    "with open(\"comment_lang.pkl\", \"wb\") as f:\n",
    "    pickle.dump(comment_lang, f)\n",
    "with open(\"all_lang.pkl\", \"wb\") as f:\n",
    "    pickle.dump(all_lang, f)"
   ]
  },
  {
   "cell_type": "code",
   "execution_count": null,
   "metadata": {},
   "outputs": [],
   "source": []
  }
 ],
 "metadata": {
  "kernelspec": {
   "display_name": "Python 3",
   "language": "python",
   "name": "python3"
  },
  "language_info": {
   "codemirror_mode": {
    "name": "ipython",
    "version": 3
   },
   "file_extension": ".py",
   "mimetype": "text/x-python",
   "name": "python",
   "nbconvert_exporter": "python",
   "pygments_lexer": "ipython3",
   "version": "3.8.5"
  }
 },
 "nbformat": 4,
 "nbformat_minor": 4
}
